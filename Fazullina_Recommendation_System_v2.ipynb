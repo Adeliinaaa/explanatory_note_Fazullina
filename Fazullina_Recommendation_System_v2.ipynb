{
 "cells": [
  {
   "cell_type": "markdown",
   "id": "061b08d2-62de-43ca-b494-9b9d5569ebd4",
   "metadata": {},
   "source": [
    "### Подключение библиотек"
   ]
  },
  {
   "cell_type": "code",
   "execution_count": 1,
   "id": "0fa8d52f-a04c-4c90-a38e-9b4d85de0a96",
   "metadata": {},
   "outputs": [],
   "source": [
    "import pandas as pd\n",
    "import numpy as np\n",
    "import matplotlib.pyplot as plt\n",
    "import seaborn as sns\n",
    "%matplotlib inline"
   ]
  },
  {
   "cell_type": "markdown",
   "id": "aae737e5-ccca-4a6a-bb13-0d851efd3545",
   "metadata": {},
   "source": [
    "### Загрузка данных"
   ]
  },
  {
   "cell_type": "code",
   "execution_count": 2,
   "id": "8a45191e-5d61-40c2-bff9-7b3130618192",
   "metadata": {},
   "outputs": [],
   "source": [
    "rating=pd.read_csv(\"C:/Users/Adeli/Downloads/2/ratings.csv\")"
   ]
  },
  {
   "cell_type": "code",
   "execution_count": 3,
   "id": "9bfa451f-68bd-4464-b026-6796d45a4a0a",
   "metadata": {},
   "outputs": [
    {
     "data": {
      "text/html": [
       "<div>\n",
       "<style scoped>\n",
       "    .dataframe tbody tr th:only-of-type {\n",
       "        vertical-align: middle;\n",
       "    }\n",
       "\n",
       "    .dataframe tbody tr th {\n",
       "        vertical-align: top;\n",
       "    }\n",
       "\n",
       "    .dataframe thead th {\n",
       "        text-align: right;\n",
       "    }\n",
       "</style>\n",
       "<table border=\"1\" class=\"dataframe\">\n",
       "  <thead>\n",
       "    <tr style=\"text-align: right;\">\n",
       "      <th></th>\n",
       "      <th>userId</th>\n",
       "      <th>movieId</th>\n",
       "      <th>rating</th>\n",
       "      <th>timestamp</th>\n",
       "    </tr>\n",
       "  </thead>\n",
       "  <tbody>\n",
       "    <tr>\n",
       "      <th>0</th>\n",
       "      <td>1</td>\n",
       "      <td>16</td>\n",
       "      <td>4.0</td>\n",
       "      <td>1217897793</td>\n",
       "    </tr>\n",
       "    <tr>\n",
       "      <th>1</th>\n",
       "      <td>1</td>\n",
       "      <td>24</td>\n",
       "      <td>1.5</td>\n",
       "      <td>1217895807</td>\n",
       "    </tr>\n",
       "    <tr>\n",
       "      <th>2</th>\n",
       "      <td>1</td>\n",
       "      <td>32</td>\n",
       "      <td>4.0</td>\n",
       "      <td>1217896246</td>\n",
       "    </tr>\n",
       "    <tr>\n",
       "      <th>3</th>\n",
       "      <td>1</td>\n",
       "      <td>47</td>\n",
       "      <td>4.0</td>\n",
       "      <td>1217896556</td>\n",
       "    </tr>\n",
       "    <tr>\n",
       "      <th>4</th>\n",
       "      <td>1</td>\n",
       "      <td>50</td>\n",
       "      <td>4.0</td>\n",
       "      <td>1217896523</td>\n",
       "    </tr>\n",
       "  </tbody>\n",
       "</table>\n",
       "</div>"
      ],
      "text/plain": [
       "   userId  movieId  rating   timestamp\n",
       "0       1       16     4.0  1217897793\n",
       "1       1       24     1.5  1217895807\n",
       "2       1       32     4.0  1217896246\n",
       "3       1       47     4.0  1217896556\n",
       "4       1       50     4.0  1217896523"
      ]
     },
     "execution_count": 3,
     "metadata": {},
     "output_type": "execute_result"
    }
   ],
   "source": [
    "rating.head()"
   ]
  },
  {
   "cell_type": "markdown",
   "id": "e705d21f-f4b9-48db-b233-29a8cd1f5039",
   "metadata": {},
   "source": [
    "userId: Идентификатор пользователя, поставившего оценку.\n",
    "\n",
    "movieId: Идентификатор фильма, которому поставлена оценка.\n",
    "\n",
    "rating: Сама оценка (вероятно, от 1 до 5).\n",
    "\n",
    "timestamp: Время, когда оценка была поставлена."
   ]
  },
  {
   "cell_type": "code",
   "execution_count": 4,
   "id": "47092c8b-d375-41fd-b9fd-5a3cc35035c4",
   "metadata": {},
   "outputs": [],
   "source": [
    "movies = pd.read_csv(\"C:/Users/Adeli/Downloads/2/movies.csv\")"
   ]
  },
  {
   "cell_type": "code",
   "execution_count": 5,
   "id": "6e73f7fe-e66a-4fb4-a903-1a72cca4b010",
   "metadata": {},
   "outputs": [
    {
     "data": {
      "text/html": [
       "<div>\n",
       "<style scoped>\n",
       "    .dataframe tbody tr th:only-of-type {\n",
       "        vertical-align: middle;\n",
       "    }\n",
       "\n",
       "    .dataframe tbody tr th {\n",
       "        vertical-align: top;\n",
       "    }\n",
       "\n",
       "    .dataframe thead th {\n",
       "        text-align: right;\n",
       "    }\n",
       "</style>\n",
       "<table border=\"1\" class=\"dataframe\">\n",
       "  <thead>\n",
       "    <tr style=\"text-align: right;\">\n",
       "      <th></th>\n",
       "      <th>movieId</th>\n",
       "      <th>title</th>\n",
       "      <th>genres</th>\n",
       "    </tr>\n",
       "  </thead>\n",
       "  <tbody>\n",
       "    <tr>\n",
       "      <th>0</th>\n",
       "      <td>1</td>\n",
       "      <td>Toy Story (1995)</td>\n",
       "      <td>Adventure|Animation|Children|Comedy|Fantasy</td>\n",
       "    </tr>\n",
       "    <tr>\n",
       "      <th>1</th>\n",
       "      <td>2</td>\n",
       "      <td>Jumanji (1995)</td>\n",
       "      <td>Adventure|Children|Fantasy</td>\n",
       "    </tr>\n",
       "    <tr>\n",
       "      <th>2</th>\n",
       "      <td>3</td>\n",
       "      <td>Grumpier Old Men (1995)</td>\n",
       "      <td>Comedy|Romance</td>\n",
       "    </tr>\n",
       "    <tr>\n",
       "      <th>3</th>\n",
       "      <td>4</td>\n",
       "      <td>Waiting to Exhale (1995)</td>\n",
       "      <td>Comedy|Drama|Romance</td>\n",
       "    </tr>\n",
       "    <tr>\n",
       "      <th>4</th>\n",
       "      <td>5</td>\n",
       "      <td>Father of the Bride Part II (1995)</td>\n",
       "      <td>Comedy</td>\n",
       "    </tr>\n",
       "  </tbody>\n",
       "</table>\n",
       "</div>"
      ],
      "text/plain": [
       "   movieId                               title  \\\n",
       "0        1                    Toy Story (1995)   \n",
       "1        2                      Jumanji (1995)   \n",
       "2        3             Grumpier Old Men (1995)   \n",
       "3        4            Waiting to Exhale (1995)   \n",
       "4        5  Father of the Bride Part II (1995)   \n",
       "\n",
       "                                        genres  \n",
       "0  Adventure|Animation|Children|Comedy|Fantasy  \n",
       "1                   Adventure|Children|Fantasy  \n",
       "2                               Comedy|Romance  \n",
       "3                         Comedy|Drama|Romance  \n",
       "4                                       Comedy  "
      ]
     },
     "execution_count": 5,
     "metadata": {},
     "output_type": "execute_result"
    }
   ],
   "source": [
    "movies.head()"
   ]
  },
  {
   "cell_type": "markdown",
   "id": "41ab1b67-30a2-4746-b25b-736c694946c0",
   "metadata": {},
   "source": [
    "movieId: Идентификатор фильма, которому поставлена оценка.\n",
    "\n",
    "title: Наименование фильма\n",
    "\n",
    "genres: Жанр фильма"
   ]
  },
  {
   "cell_type": "markdown",
   "id": "f373641f-a932-42f4-a044-8715f1736bce",
   "metadata": {},
   "source": [
    "### Размерность данных"
   ]
  },
  {
   "cell_type": "code",
   "execution_count": 6,
   "id": "388fa344-a99e-423b-b582-145998194165",
   "metadata": {},
   "outputs": [
    {
     "name": "stdout",
     "output_type": "stream",
     "text": [
      "(105339, 4)\n"
     ]
    }
   ],
   "source": [
    "print(rating.shape)"
   ]
  },
  {
   "cell_type": "code",
   "execution_count": 7,
   "id": "0be02268-e30e-4501-8859-368ae7fc19b8",
   "metadata": {},
   "outputs": [
    {
     "name": "stdout",
     "output_type": "stream",
     "text": [
      "(10329, 3)\n"
     ]
    }
   ],
   "source": [
    "print(movies.shape)"
   ]
  },
  {
   "cell_type": "markdown",
   "id": "10d2926b-fcd9-45d1-a2d9-019038456a03",
   "metadata": {},
   "source": [
    "### Проверка типов данных"
   ]
  },
  {
   "cell_type": "code",
   "execution_count": 8,
   "id": "a0517d2a-d75b-4d7b-9d97-c796f6825343",
   "metadata": {},
   "outputs": [
    {
     "name": "stdout",
     "output_type": "stream",
     "text": [
      "userId         int64\n",
      "movieId        int64\n",
      "rating       float64\n",
      "timestamp      int64\n",
      "dtype: object\n"
     ]
    }
   ],
   "source": [
    "print(rating.dtypes)"
   ]
  },
  {
   "cell_type": "markdown",
   "id": "da5f08a6-f5bc-467a-9667-33b1d218ff0d",
   "metadata": {},
   "source": [
    "### Проверка на пропущенные значения"
   ]
  },
  {
   "cell_type": "code",
   "execution_count": 9,
   "id": "2c5dfd82-a438-4986-b272-e1097a15eb89",
   "metadata": {},
   "outputs": [
    {
     "name": "stdout",
     "output_type": "stream",
     "text": [
      "userId       0\n",
      "movieId      0\n",
      "rating       0\n",
      "timestamp    0\n",
      "dtype: int64\n"
     ]
    }
   ],
   "source": [
    "print(rating.isnull().sum())"
   ]
  },
  {
   "cell_type": "code",
   "execution_count": 10,
   "id": "04372946-0032-4643-a670-f3a56ade619a",
   "metadata": {},
   "outputs": [
    {
     "name": "stdout",
     "output_type": "stream",
     "text": [
      "movieId    0\n",
      "title      0\n",
      "genres     0\n",
      "dtype: int64\n"
     ]
    }
   ],
   "source": [
    "print(movies.isnull().sum())"
   ]
  },
  {
   "cell_type": "markdown",
   "id": "435cbb54-9d0b-4c7c-a91d-c44ab5766c8d",
   "metadata": {},
   "source": [
    "### Вывод описательной статистики по оценкам"
   ]
  },
  {
   "cell_type": "code",
   "execution_count": 11,
   "id": "e84a008f-0f43-48ef-83b5-f944e1f4903b",
   "metadata": {},
   "outputs": [
    {
     "name": "stdout",
     "output_type": "stream",
     "text": [
      "count    105339.000000\n",
      "mean          3.516850\n",
      "std           1.044872\n",
      "min           0.500000\n",
      "25%           3.000000\n",
      "50%           3.500000\n",
      "75%           4.000000\n",
      "max           5.000000\n",
      "Name: rating, dtype: float64\n"
     ]
    }
   ],
   "source": [
    "print(rating['rating'].describe())"
   ]
  },
  {
   "cell_type": "markdown",
   "id": "280ce9e9-870c-40be-a73a-b41278035732",
   "metadata": {},
   "source": [
    "### Проверка на дубликаты"
   ]
  },
  {
   "cell_type": "code",
   "execution_count": 12,
   "id": "08117f7a-d7e4-4c44-aabe-79ff2ac395bd",
   "metadata": {},
   "outputs": [
    {
     "name": "stdout",
     "output_type": "stream",
     "text": [
      "0\n"
     ]
    }
   ],
   "source": [
    "print(rating.duplicated().sum())"
   ]
  },
  {
   "cell_type": "markdown",
   "id": "ce550fc2-a40b-4291-a601-0717ac400c2a",
   "metadata": {},
   "source": [
    "### График \"Распределение оценок\""
   ]
  },
  {
   "cell_type": "code",
   "execution_count": 13,
   "id": "0357f716-cb78-4bad-bb5e-2ff4727face0",
   "metadata": {},
   "outputs": [
    {
     "data": {
      "image/png": "[encoded data removed]",
      "text/plain": [
       "<Figure size 640x480 with 1 Axes>"
      ]
     },
     "metadata": {},
     "output_type": "display_data"
    }
   ],
   "source": [
    "plt.hist(rating['rating'], bins=5, edgecolor='mediumorchid')\n",
    "plt.xlabel('Рейтинг')\n",
    "plt.ylabel('Количество оценок')\n",
    "plt.title('Распределение оценок фильмов')\n",
    "plt.show()"
   ]
  },
  {
   "cell_type": "markdown",
   "id": "8f3f32a5-a704-4dea-abb1-7c45d6c522cf",
   "metadata": {},
   "source": [
    "### График \"Количество оценок по пользователям\""
   ]
  },
  {
   "cell_type": "code",
   "execution_count": 14,
   "id": "5061639e-d73e-46b0-8dca-efb3baa52593",
   "metadata": {},
   "outputs": [
    {
     "data": {
      "image/png": "[encoded data removed]",
      "text/plain": [
       "<Figure size 1000x600 with 1 Axes>"
      ]
     },
     "metadata": {},
     "output_type": "display_data"
    }
   ],
   "source": [
    "user_counts = rating['userId'].value_counts()\n",
    "plt.figure(figsize=(10, 6))\n",
    "plt.bar(user_counts.index, user_counts.values)\n",
    "plt.xlabel('ID пользователя')\n",
    "plt.ylabel('Количество оценок')\n",
    "plt.title('Количество оценок по пользователям')\n",
    "plt.xticks(rotation=90)\n",
    "plt.show()"
   ]
  },
  {
   "cell_type": "markdown",
   "id": "7f482c74-3817-4189-ad9f-1bb3ba2522af",
   "metadata": {},
   "source": [
    "### График \"Количество оценок по фильмам\""
   ]
  },
  {
   "cell_type": "code",
   "execution_count": 15,
   "id": "de7bb0e6-5c60-4477-8e76-577f48ce4a93",
   "metadata": {},
   "outputs": [
    {
     "data": {
      "image/png": "[encoded data removed]",
      "text/plain": [
       "<Figure size 1000x600 with 1 Axes>"
      ]
     },
     "metadata": {},
     "output_type": "display_data"
    }
   ],
   "source": [
    "movie_counts = rating['movieId'].value_counts()\n",
    "plt.figure(figsize=(10, 6))\n",
    "plt.bar(movie_counts.index, movie_counts.values)\n",
    "plt.xlabel('ID фильма')\n",
    "plt.ylabel('Количество оценок')\n",
    "plt.title('Количество оценок по фильмам')\n",
    "plt.xticks(rotation=90)\n",
    "plt.show()"
   ]
  },
  {
   "cell_type": "markdown",
   "id": "16c887fd-dcff-4363-94d1-cfb8618e23a0",
   "metadata": {},
   "source": [
    "### Система рекомендаций на основе взвешенных рейтингов"
   ]
  },
  {
   "cell_type": "code",
   "execution_count": 16,
   "id": "130cb2b6-3e93-4eae-adf9-16c1fdb2bb02",
   "metadata": {},
   "outputs": [
    {
     "name": "stdout",
     "output_type": "stream",
     "text": [
      "      movieId  weighted_rating  rating_count\n",
      "514    1193.0         3.993464         143.0\n",
      "1182   1197.0         3.933702         171.0\n",
      "293     541.0         3.918675         156.0\n",
      "301    1200.0         3.898204         157.0\n",
      "1008    923.0         3.890805          77.0\n",
      "894    1704.0         3.890000         140.0\n",
      "291     293.0         3.860390         144.0\n",
      "305    1291.0         3.841808         167.0\n",
      "371   58559.0         3.839416         127.0\n",
      "303    1214.0         3.819277         156.0\n"
     ]
    }
   ],
   "source": [
    "# Пояснить функцию, вывести рекомендации для др пользователя, добавить для вывода названия фильмов\n",
    "# Загружаем данные о рейтингах\n",
    "ratings = pd.read_csv(\"C:/Users/Adeli/Downloads/2/ratings.csv\") \n",
    "\n",
    "# Создаем функцию для расчета взвешенного рейтинга\n",
    "def weighted_rating(df, userId):\n",
    "    \n",
    "\n",
    "    # Фильтруем рейтинги, которые уже поставил пользователь\n",
    "    user_ratings = df[df['userId'] == userId]\n",
    "    watched_movies = user_ratings['movieId'].unique()\n",
    "\n",
    "    # Фильтруем фильмы, которые пользователь еще не смотрел\n",
    "    unwatched_movies = df[~df['movieId'].isin(watched_movies)]['movieId'].unique()\n",
    "\n",
    "    # Создаем пустой DataFrame для хранения взвешенных рейтингов\n",
    "    weighted_ratings = pd.DataFrame(columns=['movieId', 'weighted_rating', 'rating_count'])\n",
    "\n",
    "    # Перебираем фильмы, которые пользователь еще не смотрел\n",
    "    for i, movieId in enumerate(unwatched_movies):\n",
    "        # Фильтруем рейтинги для текущего фильма\n",
    "        movie_ratings = df[df['movieId'] == movieId]\n",
    "\n",
    "        # Вычисляем средний рейтинг фильма\n",
    "        average_rating = movie_ratings['rating'].mean()\n",
    "\n",
    "        # Вычисляем количество оценок фильма\n",
    "        rating_count = len(movie_ratings)\n",
    "\n",
    "        # Вычисляем взвешенный рейтинг\n",
    "        weighted_rating_value = average_rating * rating_count / (rating_count + 10)\n",
    "\n",
    "        # Добавляем фильм в DataFrame с взвешенным рейтингом\n",
    "        weighted_ratings.loc[i] = [movieId, weighted_rating_value, rating_count]\n",
    "\n",
    "    # Сортируем фильмы по убыванию взвешенного рейтинга\n",
    "    weighted_ratings = weighted_ratings.sort_values('weighted_rating', ascending=False)\n",
    "\n",
    "    return weighted_ratings\n",
    "\n",
    "userId = 1\n",
    "recommendations = weighted_rating(ratings, userId)\n",
    "\n",
    "# Выводим 10 лучших рекомендаций\n",
    "print(recommendations.head(10))"
   ]
  },
  {
   "cell_type": "markdown",
   "id": "ebd3971e-adbe-4cc4-ad1e-60d436c4076d",
   "metadata": {},
   "source": [
    "movieId: В столбце movieId указаны идентификаторы фильмов, которые рекомендуются для пользователя с user_id = 1.\n",
    "\n",
    "weighted_rating: В столбце weighted_rating указан взвешенный рейтинг для каждого фильма. \n",
    "Этот рейтинг учитывает среднюю оценку фильма (average_rating) и количество оценок (rating_count).\n",
    "\n",
    "rating_count: В столбце rating_count указано количество оценок, которые были поставлены для каждого фильма.\n",
    "\n",
    "Система рекомендаций отсортировала фильмы в порядке убывания weighted_rating, \n",
    "т.е. рекомендуя сначала фильмы с наиболее высокими взвешенными рейтингами.\n",
    "\n",
    "Фильм с movieId = 514 имеет наивысший взвешенный рейтинг (1193.0), так как получил \n",
    "143 оценки и у него достаточно высокий средний рейтинг.\n",
    "\n",
    "Фильм с movieId = 1008 имеет меньший взвешенный рейтинг (923.0), хотя и средний рейтинг \n",
    "у него довольно высокий, но количество оценок намного меньше (всего 77 оценок)."
   ]
  },
  {
   "cell_type": "markdown",
   "id": "90085258-1414-4ec0-a8b5-5e0da76f8543",
   "metadata": {},
   "source": [
    "### Система рекомендаций на основе взвешенных рейтингов \n",
    "(выведены рекомендации для несколких пользователей, добавлено для вывода названия фильмов)"
   ]
  },
  {
   "cell_type": "code",
   "execution_count": 27,
   "id": "fc5c0da3-665e-487d-8f2a-119cbbee56b9",
   "metadata": {},
   "outputs": [
    {
     "name": "stdout",
     "output_type": "stream",
     "text": [
      "Рекомендации для пользователя 1:\n",
      "\n",
      "   movieId  weighted_rating  rating_count  \\\n",
      "0   1193.0         3.993464         143.0   \n",
      "1   1197.0         3.933702         171.0   \n",
      "2    541.0         3.918675         156.0   \n",
      "3   1200.0         3.898204         157.0   \n",
      "4    923.0         3.890805          77.0   \n",
      "5   1704.0         3.890000         140.0   \n",
      "6    293.0         3.860390         144.0   \n",
      "7   1291.0         3.841808         167.0   \n",
      "8  58559.0         3.839416         127.0   \n",
      "9   1214.0         3.819277         156.0   \n",
      "\n",
      "                                               title  \n",
      "0             One Flew Over the Cuckoo's Nest (1975)  \n",
      "1                         Princess Bride, The (1987)  \n",
      "2                                Blade Runner (1982)  \n",
      "3                                      Aliens (1986)  \n",
      "4                                Citizen Kane (1941)  \n",
      "5                           Good Will Hunting (1997)  \n",
      "6  Léon: The Professional (a.k.a. The Professiona...  \n",
      "7          Indiana Jones and the Last Crusade (1989)  \n",
      "8                            Dark Knight, The (2008)  \n",
      "9                                       Alien (1979)  \n",
      "\n",
      "Рекомендации для пользователя 12:\n",
      "\n",
      "   movieId  weighted_rating  rating_count  \\\n",
      "0    318.0         4.314465         308.0   \n",
      "1    858.0         4.193182         210.0   \n",
      "2     50.0         4.147059         228.0   \n",
      "3    527.0         4.129845         248.0   \n",
      "4   2571.0         4.107011         261.0   \n",
      "5    608.0         4.068720         201.0   \n",
      "6    593.0         4.055000         290.0   \n",
      "7   1196.0         4.050420         228.0   \n",
      "8    260.0         4.040636         273.0   \n",
      "9   1136.0         4.039634         154.0   \n",
      "\n",
      "                                               title  \n",
      "0                   Shawshank Redemption, The (1994)  \n",
      "1                              Godfather, The (1972)  \n",
      "2                         Usual Suspects, The (1995)  \n",
      "3                            Schindler's List (1993)  \n",
      "4                                 Matrix, The (1999)  \n",
      "5                                       Fargo (1996)  \n",
      "6                   Silence of the Lambs, The (1991)  \n",
      "7  Star Wars: Episode V - The Empire Strikes Back...  \n",
      "8          Star Wars: Episode IV - A New Hope (1977)  \n",
      "9             Monty Python and the Holy Grail (1975)  \n",
      "\n",
      "Рекомендации для пользователя 33:\n",
      "\n",
      "   movieId  weighted_rating  rating_count  \\\n",
      "0    318.0         4.314465         308.0   \n",
      "1   2571.0         4.107011         261.0   \n",
      "2    593.0         4.055000         290.0   \n",
      "3   1196.0         4.050420         228.0   \n",
      "4   1136.0         4.039634         154.0   \n",
      "5    296.0         4.035821         325.0   \n",
      "6    356.0         4.009346         311.0   \n",
      "7   2959.0         3.995392         207.0   \n",
      "8   1213.0         3.965517         135.0   \n",
      "9    110.0         3.949612         248.0   \n",
      "\n",
      "                                               title  \n",
      "0                   Shawshank Redemption, The (1994)  \n",
      "1                                 Matrix, The (1999)  \n",
      "2                   Silence of the Lambs, The (1991)  \n",
      "3  Star Wars: Episode V - The Empire Strikes Back...  \n",
      "4             Monty Python and the Holy Grail (1975)  \n",
      "5                                Pulp Fiction (1994)  \n",
      "6                                Forrest Gump (1994)  \n",
      "7                                  Fight Club (1999)  \n",
      "8                                  Goodfellas (1990)  \n",
      "9                                  Braveheart (1995)  \n",
      "\n"
     ]
    }
   ],
   "source": [
    "ratings = pd.read_csv(\"C:/Users/Adeli/Downloads/2/ratings.csv\") \n",
    "movies = pd.read_csv(\"C:/Users/Adeli/Downloads/2/movies.csv\")\n",
    "\n",
    "# Создаем функцию для расчета взвешенного рейтинга\n",
    "def weighted_rating(df, userId):\n",
    "    # Фильтруем рейтинги, которые уже поставил пользователь\n",
    "    user_ratings = df[df['userId'] == userId]\n",
    "    watched_movies = user_ratings['movieId'].unique()\n",
    "\n",
    "    # Фильтруем фильмы, которые пользователь еще не смотрел\n",
    "    unwatched_movies = df[~df['movieId'].isin(watched_movies)]['movieId'].unique()\n",
    "\n",
    "    # Создаем пустой DataFrame для хранения взвешенных рейтингов\n",
    "    weighted_ratings = pd.DataFrame(columns=['movieId', 'weighted_rating', 'rating_count'])\n",
    "\n",
    "    # Перебираем фильмы, которые пользователь еще не смотрел\n",
    "    for i, movieId in enumerate(unwatched_movies):\n",
    "        # Фильтруем рейтинги для текущего фильма\n",
    "        movie_ratings = df[df['movieId'] == movieId]\n",
    "\n",
    "        # Вычисляем средний рейтинг фильма\n",
    "        average_rating = movie_ratings['rating'].mean()\n",
    "\n",
    "        # Вычисляем количество оценок фильма\n",
    "        rating_count = len(movie_ratings)\n",
    "\n",
    "        # Вычисляем взвешенный рейтинг\n",
    "        weighted_rating_value = average_rating * rating_count / (rating_count + 10)\n",
    "\n",
    "        # Добавляем фильм в DataFrame с взвешенным рейтингом\n",
    "        weighted_ratings.loc[i] = [movieId, weighted_rating_value, rating_count]\n",
    "\n",
    "    # Сортируем фильмы по убыванию взвешенного рейтинга\n",
    "    weighted_ratings = weighted_ratings.sort_values('weighted_rating', ascending=False)\n",
    "\n",
    "    # Добавляем названия фильмов\n",
    "    weighted_ratings = weighted_ratings.merge(movies[['movieId', 'title']], on='movieId', how='left')\n",
    "\n",
    "    return weighted_ratings\n",
    "\n",
    "# Выводим рекомендации для разных пользователей\n",
    "user_ids = [1, 12, 33]\n",
    "for userId in user_ids:\n",
    "    recommendations = weighted_rating(ratings, userId)\n",
    "    print(f\"Рекомендации для пользователя {userId}:\\n\")\n",
    "    print(recommendations.head(10)) \n",
    "    print()"
   ]
  },
  {
   "cell_type": "markdown",
   "id": "49150993-9548-4585-9476-81cd49d2c1cd",
   "metadata": {},
   "source": [
    "### Наглядный график рекомендаций"
   ]
  },
  {
   "cell_type": "code",
   "execution_count": 30,
   "id": "9d6adafd-6ed2-4796-b848-ee82e0c9dc0a",
   "metadata": {},
   "outputs": [
    {
     "data": {
      "image/png": "[encoded data removed]",
      "text/plain": [
       "<Figure size 1000x600 with 1 Axes>"
      ]
     },
     "metadata": {},
     "output_type": "display_data"
    }
   ],
   "source": [
    "ratings = pd.read_csv(\"C:/Users/Adeli/Downloads/2/ratings.csv\") \n",
    "movies = pd.read_csv(\"C:/Users/Adeli/Downloads/2/movies.csv\")\n",
    "\n",
    "# Создаем функцию для расчета взвешенного рейтинга\n",
    "def weighted_rating(df, userId):\n",
    "    # Фильтруем рейтинги, которые уже поставил пользователь\n",
    "    user_ratings = df[df['userId'] == userId]\n",
    "    watched_movies = user_ratings['movieId'].unique()\n",
    "\n",
    "    # Фильтруем фильмы, которые пользователь еще не смотрел\n",
    "    unwatched_movies = df[~df['movieId'].isin(watched_movies)]['movieId'].unique()\n",
    "\n",
    "    # Создаем пустой DataFrame для хранения взвешенных рейтингов\n",
    "    weighted_ratings = pd.DataFrame(columns=['movieId', 'weighted_rating', 'rating_count'])\n",
    "\n",
    "    # Перебираем фильмы, которые пользователь еще не смотрел\n",
    "    for i, movieId in enumerate(unwatched_movies):\n",
    "        # Фильтруем рейтинги для текущего фильма\n",
    "        movie_ratings = df[df['movieId'] == movieId]\n",
    "\n",
    "        # Вычисляем средний рейтинг фильма\n",
    "        average_rating = movie_ratings['rating'].mean()\n",
    "\n",
    "        # Вычисляем количество оценок фильма\n",
    "        rating_count = len(movie_ratings)\n",
    "\n",
    "        # Вычисляем взвешенный рейтинг\n",
    "        weighted_rating_value = average_rating * rating_count / (rating_count + 10)\n",
    "\n",
    "        # Добавляем фильм в DataFrame с взвешенным рейтингом\n",
    "        weighted_ratings.loc[i] = [movieId, weighted_rating_value, rating_count]\n",
    "\n",
    "    # Сортируем фильмы по убыванию взвешенного рейтинга\n",
    "    weighted_ratings = weighted_ratings.sort_values('weighted_rating', ascending=False)\n",
    "\n",
    "    # Добавляем названия фильмов\n",
    "    weighted_ratings = weighted_ratings.merge(movies[['movieId', 'title']], on='movieId', how='left')\n",
    "\n",
    "    return weighted_ratings\n",
    "\n",
    "userId = 155\n",
    "recommendations = weighted_rating(ratings, userId)\n",
    "\n",
    "plt.figure(figsize=(10, 6))\n",
    "plt.bar(recommendations['title'].head(10), recommendations['weighted_rating'].head(10), \n",
    "        color='mediumorchid') \n",
    "plt.xlabel('Название фильма', fontsize=12)  \n",
    "plt.ylabel('Взвешенный рейтинг', fontsize=12)  \n",
    "plt.title('Топ-10 рекомендаций для пользователя с Id 155', fontsize=14, fontweight='bold') \n",
    "plt.xticks(rotation=90)\n",
    "plt.grid(True, axis='y', linestyle='--', alpha=0.7)  # Добавляем сетку\n",
    "plt.show()"
   ]
  },
  {
   "cell_type": "markdown",
   "id": "2ecbbf81-6755-419e-a6c9-128655a78e0c",
   "metadata": {},
   "source": [
    "### Список топ-10 популярных фильмов"
   ]
  },
  {
   "cell_type": "code",
   "execution_count": 18,
   "id": "37b64c6e-bd94-4ca8-8624-00323f557e1f",
   "metadata": {},
   "outputs": [
    {
     "name": "stdout",
     "output_type": "stream",
     "text": [
      "Топ-10 самых популярных фильмов:\n",
      "                                        title  count\n",
      "0                        Pulp Fiction (1994)    325\n",
      "1                        Forrest Gump (1994)    311\n",
      "2           Shawshank Redemption, The (1994)    308\n",
      "3                       Jurassic Park (1993)    294\n",
      "4           Silence of the Lambs, The (1991)    290\n",
      "5  Star Wars: Episode IV - A New Hope (1977)    273\n",
      "6                         Matrix, The (1999)    261\n",
      "7          Terminator 2: Judgment Day (1991)    253\n",
      "8                          Braveheart (1995)    248\n",
      "9                    Schindler's List (1993)    248\n"
     ]
    }
   ],
   "source": [
    "ratings = pd.read_csv(\"C:/Users/Adeli/Downloads/2/ratings.csv\") \n",
    "\n",
    "movies = pd.read_csv(\"C:/Users/Adeli/Downloads/2/movies.csv\")\n",
    "\n",
    "# Подсчет количества оценок для каждого фильма\n",
    "popular_movies = ratings['movieId'].value_counts().nlargest(10)\n",
    "\n",
    "# Соединение данных о популярности с названиями фильмов\n",
    "popular_movies = popular_movies.to_frame(name='count')\n",
    "popular_movies = popular_movies.merge(movies[['movieId', 'title']], on='movieId', how='left')\n",
    "\n",
    "# Вывод 10 самых популярных фильмов с названиями\n",
    "print(\"Топ-10 самых популярных фильмов:\\n\", popular_movies[['title', 'count']])"
   ]
  },
  {
   "cell_type": "markdown",
   "id": "a73d41d2-acb5-4f43-91c0-1a6dc740c113",
   "metadata": {},
   "source": [
    "Фильм Pulp Fiction является самым популярным, потому что он получил 325 оценок.\n",
    "\n",
    "Фильм Forrest Gump является вторым по популярности, так как он получил 311 оценок.\n",
    "\n",
    "Фильм Braveheart и Schindler's List имеют одинаковое количество оценок (248), поэтому они разделены в списке на равные позиции."
   ]
  },
  {
   "cell_type": "markdown",
   "id": "b475bc1a-d160-480f-a8be-7b647393bb11",
   "metadata": {},
   "source": [
    "### Рекомендательная система по жанру"
   ]
  },
  {
   "cell_type": "code",
   "execution_count": 31,
   "id": "82d6ff1f-c7c8-40d0-bc7c-5f1c4c0e908b",
   "metadata": {},
   "outputs": [
    {
     "name": "stdout",
     "output_type": "stream",
     "text": [
      "Рекомендации по жанру Comedy:\n",
      "                                                 title  weighted_rating\n",
      "1                          Princess Bride, The (1987)         3.933702\n",
      "13  Dr. Strangelove or: How I Learned to Stop Worr...         3.811111\n",
      "16  Amelie (Fabuleux destin d'Amélie Poulain, Le) ...         3.759690\n",
      "22                                   Toy Story (1995)         3.745868\n",
      "23         Life Is Beautiful (La Vita è bella) (1997)         3.740964\n",
      "25                                  Sting, The (1973)         3.724138\n",
      "27                        Being John Malkovich (1999)         3.716418\n",
      "29                               Graduate, The (1967)         3.706186\n",
      "34        Wallace & Gromit: The Wrong Trousers (1993)         3.689655\n",
      "35                               Trainspotting (1996)         3.685484\n"
     ]
    }
   ],
   "source": [
    "ratings = pd.read_csv(\"C:/Users/Adeli/Downloads/2/ratings.csv\") \n",
    "movies = pd.read_csv(\"C:/Users/Adeli/Downloads/2/movies.csv\")\n",
    "\n",
    "# Создаем функцию для расчета взвешенного рейтинга\n",
    "def weighted_rating(df, userId):\n",
    "    # Фильтруем рейтинги, которые уже поставил пользователь\n",
    "    user_ratings = df[df['userId'] == userId]\n",
    "    watched_movies = user_ratings['movieId'].unique()\n",
    "\n",
    "    # Фильтруем фильмы, которые пользователь еще не смотрел\n",
    "    unwatched_movies = df[~df['movieId'].isin(watched_movies)]['movieId'].unique()\n",
    "\n",
    "    # Создаем пустой DataFrame для хранения взвешенных рейтингов\n",
    "    weighted_ratings = pd.DataFrame(columns=['movieId', 'weighted_rating', 'rating_count'])\n",
    "\n",
    "    # Перебираем фильмы, которые пользователь еще не смотрел\n",
    "    for i, movieId in enumerate(unwatched_movies):\n",
    "        # Фильтруем рейтинги для текущего фильма\n",
    "        movie_ratings = df[df['movieId'] == movieId]\n",
    "\n",
    "        # Вычисляем средний рейтинг фильма\n",
    "        average_rating = movie_ratings['rating'].mean()\n",
    "\n",
    "        # Вычисляем количество оценок фильма\n",
    "        rating_count = len(movie_ratings)\n",
    "\n",
    "        # Вычисляем взвешенный рейтинг\n",
    "        weighted_rating_value = average_rating * rating_count / (rating_count + 10)\n",
    "\n",
    "        # Добавляем фильм в DataFrame с взвешенным рейтингом\n",
    "        weighted_ratings.loc[i] = [movieId, weighted_rating_value, rating_count]\n",
    "\n",
    "    # Сортируем фильмы по убыванию взвешенного рейтинга\n",
    "    weighted_ratings = weighted_ratings.sort_values('weighted_rating', ascending=False)\n",
    "\n",
    "    # Добавляем названия фильмов\n",
    "    weighted_ratings = weighted_ratings.merge(movies[['movieId', 'title']], on='movieId', how='left')\n",
    "\n",
    "    return weighted_ratings\n",
    "\n",
    "def recommend_by_genre(user_id, genre, n=10):\n",
    "\n",
    "    # Фильтруем фильмы по жанру\n",
    "    genre_movies = movies[movies['genres'].str.contains(genre)]\n",
    "\n",
    "    # Выбираем фильмы, которые пользователь еще не смотрел\n",
    "    user_ratings = ratings[ratings['userId'] == user_id]\n",
    "    watched_movies = user_ratings['movieId'].unique()\n",
    "    unwatched_genre_movies = genre_movies[~genre_movies['movieId'].isin(watched_movies)]['movieId']\n",
    "\n",
    "    # Выбираем топ-n фильмов по взвешенному рейтингу\n",
    "    # Используем функцию weighted_rating() для получения рекомендаций\n",
    "    recommendations = weighted_rating(ratings, user_id) \n",
    "\n",
    "    # Фильтруем рекомендации по жанру и несмотренным фильмам\n",
    "    recommendations = recommendations[recommendations['movieId'].isin(unwatched_genre_movies)].head(n)\n",
    "\n",
    "    return recommendations\n",
    "\n",
    "user_id = 1\n",
    "genre = \"Comedy\"\n",
    "recommendations = recommend_by_genre(user_id, genre)\n",
    "print(\"Рекомендации по жанру {}:\\n\".format(genre), recommendations[['title', 'weighted_rating']]) "
   ]
  },
  {
   "cell_type": "markdown",
   "id": "d0fd27e3-5c10-489e-b35f-00687f4c06c6",
   "metadata": {},
   "source": [
    "### Рекомендательная система по контенту"
   ]
  },
  {
   "cell_type": "code",
   "execution_count": 20,
   "id": "30e41bda-fe09-4e15-aa68-bdbcd0788e6f",
   "metadata": {},
   "outputs": [
    {
     "name": "stderr",
     "output_type": "stream",
     "text": [
      "[nltk_data] Downloading package punkt to\n",
      "[nltk_data]     C:\\Users\\Adeli\\AppData\\Roaming\\nltk_data...\n",
      "[nltk_data]   Package punkt is already up-to-date!\n",
      "[nltk_data] Downloading package stopwords to\n",
      "[nltk_data]     C:\\Users\\Adeli\\AppData\\Roaming\\nltk_data...\n",
      "[nltk_data]   Package stopwords is already up-to-date!\n",
      "[nltk_data] Downloading package wordnet to\n",
      "[nltk_data]     C:\\Users\\Adeli\\AppData\\Roaming\\nltk_data...\n",
      "[nltk_data]   Package wordnet is already up-to-date!\n"
     ]
    },
    {
     "name": "stdout",
     "output_type": "stream",
     "text": [
      "Рекомендации по контенту, похожие на фильм 514:\n",
      " 17                                     Four Rooms (1995)\n",
      "18                 Ace Ventura: When Nature Calls (1995)\n",
      "60                                       Bio-Dome (1996)\n",
      "63                                         Friday (1995)\n",
      "81                                    Black Sheep (1996)\n",
      "92                                      Mr. Wrong (1996)\n",
      "94                                  Happy Gilmore (1996)\n",
      "103    Happiness Is in the Field (Bonheur est dans le...\n",
      "111                        Flirting With Disaster (1996)\n",
      "116                                Down Periscope (1996)\n",
      "Name: title, dtype: object\n"
     ]
    }
   ],
   "source": [
    "from sklearn.metrics.pairwise import cosine_similarity\n",
    "from sklearn.feature_extraction.text import TfidfVectorizer\n",
    "import nltk\n",
    "\n",
    "ratings = pd.read_csv(\"C:/Users/Adeli/Downloads/2/ratings.csv\") \n",
    " \n",
    "movies = pd.read_csv(\"C:/Users/Adeli/Downloads/2/movies.csv\")\n",
    "\n",
    "# Извлечение ключевых слов из жанров с помощью nltk\n",
    "from nltk.corpus import stopwords\n",
    "from nltk.tokenize import word_tokenize\n",
    "from nltk.stem import WordNetLemmatizer\n",
    "\n",
    "nltk.download('punkt')  # Загрузка необходимых данных для nltk\n",
    "nltk.download('stopwords')\n",
    "nltk.download('wordnet')\n",
    "\n",
    "stop_words = set(stopwords.words('english'))\n",
    "lemmatizer = WordNetLemmatizer()\n",
    "\n",
    "def extract_keywords(text):\n",
    "    words = word_tokenize(text)\n",
    "    filtered_words = [word for word in words if word.lower() not in stop_words and word.isalnum()]\n",
    "    lemmas = [lemmatizer.lemmatize(word) for word in filtered_words]\n",
    "    return ' '.join(lemmas)\n",
    "\n",
    "# Используем столбец 'genres' для извлечения ключевых слов\n",
    "movies['keywords'] = movies['genres'].apply(extract_keywords) \n",
    "\n",
    "def recommend_by_content(user_id, movie_id, n=10):\n",
    "\n",
    "    # Преобразование текстовых данных в векторы\n",
    "    tfidf = TfidfVectorizer(stop_words='english')\n",
    "    tfidf_matrix = tfidf.fit_transform(movies['genres'] + movies['keywords'])\n",
    "\n",
    "    # Вычисление косинусной близости \n",
    "    cosine_sim = cosine_similarity(tfidf_matrix, tfidf_matrix)\n",
    "\n",
    "    # Нахождение индекса фильма\n",
    "    idx = movies[movies['movieId'] == movie_id].index[0]\n",
    "\n",
    "    # Нахождение похожих фильмов \n",
    "    sim_scores = list(enumerate(cosine_sim[idx]))\n",
    "    sim_scores = sorted(sim_scores, key=lambda x: x[1], reverse=True)\n",
    "\n",
    "    # Выбираем топ-n похожих фильмов\n",
    "    movie_indices = [i[0] for i in sim_scores[1:n+1]]\n",
    "    recommendations = movies.iloc[movie_indices]  # Теперь мы получаем весь ряд\n",
    "    # Извлекаем названия фильмов\n",
    "    recommendations = recommendations['title']\n",
    "\n",
    "    return recommendations\n",
    "\n",
    "user_id = 1\n",
    "movie_id = 514 \n",
    "recommendations = recommend_by_content(user_id, movie_id)\n",
    "print(\"Рекомендации по контенту, похожие на фильм {}:\\n\".format(movie_id), recommendations)"
   ]
  },
  {
   "cell_type": "markdown",
   "id": "c205df41-2c72-4c4f-875f-85398e276353",
   "metadata": {},
   "source": [
    "### Рекомендации по контенту, похожие на популярные фильмы:"
   ]
  },
  {
   "cell_type": "code",
   "execution_count": 32,
   "id": "9076bed7-731f-4911-80b1-cec4313a773c",
   "metadata": {},
   "outputs": [
    {
     "name": "stdout",
     "output_type": "stream",
     "text": [
      "Рекомендации самых популярных фильмов:\n",
      "                                title  count\n",
      "0                Pulp Fiction (1994)    325\n",
      "1                Forrest Gump (1994)    311\n",
      "2   Shawshank Redemption, The (1994)    308\n",
      "3               Jurassic Park (1993)    294\n",
      "4   Silence of the Lambs, The (1991)    290\n",
      "5  Terminator 2: Judgment Day (1991)    253\n",
      "6            Schindler's List (1993)    248\n"
     ]
    }
   ],
   "source": [
    "ratings = pd.read_csv(\"C:/Users/Adeli/Downloads/2/ratings.csv\") \n",
    "movies = pd.read_csv(\"C:/Users/Adeli/Downloads/2/movies.csv\")\n",
    "\n",
    "# Подсчет количества оценок для каждого фильма\n",
    "popular_movies = ratings['movieId'].value_counts().nlargest(10)\n",
    "\n",
    "def recommend_popular_movies(user_id):\n",
    "    # Фильтруем рейтинги пользователя\n",
    "    user_ratings = ratings[ratings['userId'] == user_id]\n",
    "    watched_movies = user_ratings['movieId'].unique()\n",
    "\n",
    "    # Выбираем топ-10 самых популярных фильмов, которые пользователь не смотрел\n",
    "    recommendations = popular_movies[~popular_movies.index.isin(watched_movies)].head(10)\n",
    "\n",
    "    # Добавляем названия фильмов\n",
    "    recommendations = recommendations.to_frame(name='count')\n",
    "    recommendations = recommendations.merge(movies[['movieId', 'title']], on='movieId', how='left')\n",
    "\n",
    "    return recommendations\n",
    "\n",
    "user_id = 210\n",
    "recommendations = recommend_popular_movies(user_id)\n",
    "print(\"Рекомендации самых популярных фильмов:\\n\", recommendations[['title', 'count']]) "
   ]
  },
  {
   "cell_type": "markdown",
   "id": "4367603b-e26d-465c-a26c-5f11a7584b8d",
   "metadata": {},
   "source": [
    "Фильм Pulp Fiction - самый популярный из рекомендованных. Он получил 325 оценок.\n",
    "\n",
    "Остальные фильмы тоже входят в топ-10 популярных фильмов, но пользователь user_id = 210 ещё не смотрел их."
   ]
  },
  {
   "cell_type": "markdown",
   "id": "48ee2327-25b2-4d27-b9f8-e240cb1bdd54",
   "metadata": {},
   "source": [
    "### Реализация коллаборативной фильтрации с помощью KNN:"
   ]
  },
  {
   "cell_type": "code",
   "execution_count": 22,
   "id": "656c15d2-94ec-4b90-960a-9fe53f683179",
   "metadata": {},
   "outputs": [
    {
     "name": "stdout",
     "output_type": "stream",
     "text": [
      "Рекомендации по коллаборативной фильтрации:\n",
      " [858, 541, 1617, 608, 1247, 110, 1097, 50, 750, 1136]\n"
     ]
    }
   ],
   "source": [
    "import pandas as pd\n",
    "from sklearn.neighbors import NearestNeighbors\n",
    "from sklearn.metrics.pairwise import cosine_similarity\n",
    "\n",
    "# Загрузка данных о рейтингах\n",
    "ratings = pd.read_csv(\"C:/Users/Adeli/Downloads/2/ratings.csv\") \n",
    "\n",
    "def recommend_with_knn(user_id, n=10):\n",
    "    \n",
    "    # Создаем матрицу оценок\n",
    "    ratings_matrix = ratings.pivot_table(values='rating', index='userId', columns='movieId', fill_value=0)\n",
    "\n",
    "    # Создаем объект KNN\n",
    "    model = NearestNeighbors(metric='cosine', algorithm='brute') \n",
    "\n",
    "    # Обучаем модель\n",
    "    model.fit(ratings_matrix)\n",
    "\n",
    "    # Находим ближайших соседей\n",
    "    neighbors = model.kneighbors(ratings_matrix.loc[[user_id]], n_neighbors=5, return_distance=False)[0]\n",
    "\n",
    "    # Вычисляем среднюю оценку соседей для каждого фильма\n",
    "    predictions = ratings_matrix.iloc[neighbors].mean(axis=0)\n",
    "\n",
    "    # Сортируем фильмы по предсказанной оценке\n",
    "    sorted_predictions = predictions.sort_values(ascending=False)\n",
    "\n",
    "    # Выбираем топ-n рекомендованных фильмов\n",
    "    recommendations = sorted_predictions.index.tolist()[:n]\n",
    "\n",
    "    return recommendations\n",
    "\n",
    "\n",
    "user_id = 210\n",
    "recommendations = recommend_with_knn(user_id)\n",
    "print(\"Рекомендации по коллаборативной фильтрации:\\n\", recommendations)"
   ]
  },
  {
   "cell_type": "markdown",
   "id": "06823675-1534-43de-9bc3-cf4b9b6ecac6",
   "metadata": {},
   "source": [
    "[858, 541, 1617, 608, 1247, 110, 1097, 50, 750, 1136]: \n",
    "Это список из 10 movieId - идентификаторов фильмов, которые были рекомендованы пользователю с user_id = 210 \n",
    "на основе коллаборативной фильтрации.\n",
    "\n",
    "Алгоритм коллаборативной фильтрации (в данном случае, KNN) проанализировал оценки пользователя user_id = 210 \n",
    "и оценок других пользователей, которые имеют схожие вкусы.\n",
    "На основе этого анализа алгоритм предсказал, что пользователь user_id = 210 \n",
    "может поставить высокие оценки фильмам с movieId из этого списка."
   ]
  },
  {
   "cell_type": "markdown",
   "id": "0d399532-7794-407b-92c8-b0baae6a20d1",
   "metadata": {},
   "source": [
    "### 10 популярных фильмов по жанру \"Romance\" для пользователя с id 55, которые он не смотрел, на основе просмотренного"
   ]
  },
  {
   "cell_type": "code",
   "execution_count": 23,
   "id": "d0201fa4-0695-40b0-a087-ff2525981895",
   "metadata": {},
   "outputs": [
    {
     "name": "stdout",
     "output_type": "stream",
     "text": [
      "Топ-10 самых популярных романтических фильмов для пользователя с ID 55, которые он не смотрел:\n",
      "                         title  count\n",
      "0          Forrest Gump (1994)    311\n",
      "1       American Beauty (1999)    216\n",
      "2                 Speed (1994)    197\n",
      "3             True Lies (1994)    184\n",
      "4   Princess Bride, The (1987)    171\n",
      "5                 Shrek (2001)    158\n",
      "6         Groundhog Day (1993)    157\n",
      "7               Titanic (1997)    153\n",
      "8          Pretty Woman (1990)    148\n",
      "9  Beauty and the Beast (1991)    143\n"
     ]
    }
   ],
   "source": [
    "ratings = pd.read_csv(\"C:/Users/Adeli/Downloads/2/ratings.csv\") \n",
    "\n",
    "movies = pd.read_csv(\"C:/Users/Adeli/Downloads/2/movies.csv\")\n",
    "\n",
    "# Фильтруем фильмы по жанру\n",
    "genre_movies = movies[movies['genres'].str.contains(\"Romance\")]\n",
    "\n",
    "# Получаем список фильмов, которые пользователь с ID 55 еще не смотрел\n",
    "user_id = 55\n",
    "user_ratings = ratings[ratings['userId'] == user_id]  # Получаем все рейтинги пользователя\n",
    "watched_movies = user_ratings[user_ratings['movieId'].isin(genre_movies['movieId'])]['movieId'].tolist() # Фильтруем по жанру\n",
    "\n",
    "# Проверяем, есть ли фильмы, которые пользователь не смотрел, в жанре\n",
    "unwatched_genre_movies = genre_movies[~genre_movies['movieId'].isin(watched_movies)]['movieId'].tolist()\n",
    "\n",
    "# Если есть фильмы, которые пользователь не смотрел, то выводим их\n",
    "if unwatched_genre_movies:\n",
    "    print(\"Топ-10 самых популярных романтических фильмов для пользователя с ID 55, которые он не смотрел:\")\n",
    "\n",
    "    # Считаем количество оценок для каждого фильма\n",
    "    popular_genre_movies = ratings[ratings['movieId'].isin(unwatched_genre_movies)]['movieId'].value_counts().nlargest(10)\n",
    "\n",
    "    # Соединяем данные о популярности с названиями фильмов\n",
    "    popular_genre_movies = popular_genre_movies.to_frame(name='count')\n",
    "    popular_genre_movies = popular_genre_movies.merge(movies[['movieId', 'title']], on='movieId', how='left')\n",
    "\n",
    "    # Выводим список фильмов\n",
    "    print(popular_genre_movies[['title', 'count']])\n",
    "else:\n",
    "    print(\"Пользователь с ID 55 уже смотрел все романтические фильмы в датасете.\")"
   ]
  },
  {
   "cell_type": "markdown",
   "id": "8f13f99f-3264-406f-bc67-1252986757e7",
   "metadata": {},
   "source": [
    "### Топ-3 самых популярных жанров для пользователя с ID 70"
   ]
  },
  {
   "cell_type": "code",
   "execution_count": 24,
   "id": "dd1edd61-25ba-443b-a43d-4d14b492d0d8",
   "metadata": {},
   "outputs": [
    {
     "name": "stdout",
     "output_type": "stream",
     "text": [
      "Топ-3 самых популярных жанров для пользователя с ID 70:\n",
      "Drama: 16\n",
      "Adventure: 13\n",
      "Action: 12\n"
     ]
    }
   ],
   "source": [
    "ratings = pd.read_csv(\"C:/Users/Adeli/Downloads/2/ratings.csv\") \n",
    "\n",
    "movies = pd.read_csv(\"C:/Users/Adeli/Downloads/2/movies.csv\")\n",
    "\n",
    "# Получаем список всех жанров в датасете\n",
    "all_genres = set()\n",
    "for genres in movies['genres']:\n",
    "    for genre in genres.split('|'):\n",
    "        all_genres.add(genre)\n",
    "\n",
    "# Определяем ID пользователя\n",
    "user_id = 70\n",
    "\n",
    "# Фильтруем рейтинги пользователя\n",
    "user_ratings = ratings[ratings['userId'] == user_id]\n",
    "\n",
    "# Создаем словарь для подсчета популярности жанров\n",
    "genre_counts = {genre: 0 for genre in all_genres}\n",
    "\n",
    "# Подсчитываем количество просмотров для каждого жанра\n",
    "for movie_id in user_ratings['movieId']:\n",
    "    genres = movies[movies['movieId'] == movie_id]['genres'].iloc[0].split('|')\n",
    "    for genre in genres:\n",
    "        genre_counts[genre] += 1\n",
    "\n",
    "# Сортируем жанры по популярности\n",
    "sorted_genres = sorted(genre_counts.items(), key=lambda item: item[1], reverse=True)\n",
    "\n",
    "# Выводим топ-3 самых популярных жанров\n",
    "print(\"Топ-3 самых популярных жанров для пользователя с ID {}:\".format(user_id))\n",
    "for genre, count in sorted_genres[:3]:\n",
    "    print(f\"{genre}: {count}\")"
   ]
  },
  {
   "cell_type": "markdown",
   "id": "8225e883-9e80-4532-90e7-169261df23bf",
   "metadata": {},
   "source": [
    "Drama: 16 - Пользователь с ID 70 посмотрел 16 фильмов в жанре “Drama” (драма).\n",
    "\n",
    "Adventure: 13 - Пользователь посмотрел 13 фильмов в жанре “Adventure” (приключения).\n",
    "\n",
    "Action: 12 - Пользователь посмотрел 12 фильмов в жанре “Action” (боевик)."
   ]
  },
  {
   "cell_type": "markdown",
   "id": "94f2437b-84ee-4939-b768-76444ec2c662",
   "metadata": {},
   "source": [
    "### Пользователи с похожими вкусами с пользователем, имеющий id 5, и их просмотры"
   ]
  },
  {
   "cell_type": "code",
   "execution_count": 25,
   "id": "e065c441-7335-4fb0-bc3f-859ad7bdc53f",
   "metadata": {},
   "outputs": [
    {
     "name": "stdout",
     "output_type": "stream",
     "text": [
      "Пользователи с похожими вкусами:\n",
      "Пользователь 194:\n",
      "Просмотренные фильмы: Heat (1995), Seven (a.k.a. Se7en) (1995), Usual Suspects, The (1995), Crossing Guard, The (1995), Bad Boys (1995), Apollo 13 (1995), Congo (1995), Pulp Fiction (1994), Shawshank Redemption, The (1994), While You Were Sleeping (1995), Four Weddings and a Funeral (1994), Speed (1994), Fugitive, The (1993), Jurassic Park (1993), Mrs. Doubtfire (1993), Ghost (1990), Aladdin (1992), Beauty and the Beast (1991), Pretty Woman (1990), Dead Man (1995), Rock, The (1996), Stealing Beauty (1996), Foxfire (1996), Jude (1996), Everyone Says I Love You (1996), English Patient, The (1996), Back to the Future (1985), Down by Law (1986), Night on Earth (1991), When Harry Met Sally... (1989), 101 Dalmatians (1996), Scream (1996), Addicted to Love (1997), My Best Friend's Wedding (1997), Picture Perfect (1997), Conspiracy Theory (1997), Seven Years in Tibet (1997), Kiss the Girls (1997), Jackie Brown (1997), Great Expectations (1998), Music From Another Room (1998), Man in the Iron Mask, The (1998), Mercury Rising (1998), Live Flesh (Carne trémula) (1997), Six Days Seven Nights (1998), Out of Sight (1998), Rain Man (1988), Honey, I Blew Up the Kid (1992), American History X (1998), Enemy of the State (1998), King Kong (1976), You've Got Mail (1998), She's All That (1999), Office Space (1999), Forces of Nature (1999), Open Your Eyes (Abre los ojos) (1997), Pushing Tin (1999), Entrapment (1999), Star Wars: Episode I - The Phantom Menace (1999), Notting Hill (1999), Eyes Wide Shut (1999), Runaway Bride (1999), 13th Warrior, The (1999), American Beauty (1999), Dr. No (1962), Blue Lagoon, The (1980), Fight Club (1999), Licence to Kill (1989), Insider, The (1999), All About My Mother (Todo sobre mi madre) (1999), Cider House Rules, The (1999), Magnolia (1999), Girl, Interrupted (1999), Boondock Saints, The (2000), Beach, The (2000), Whole Nine Yards, The (2000), Ghost Dog: The Way of the Samurai (1999), Final Destination (2000), 28 Days (2000), Gladiator (2000), Moonraker (1979), Man with the Golden Gun, The (1974), Requiem for a Dream (2000), Proof of Life (2000), Cast Away (2000), Beverly Hills Cop II (1987), Hannibal (2001), 15 Minutes (2001), Enemy at the Gates (2001), Memento (2000), Heartbreakers (2001), Tailor of Panama, The (2001), Amores Perros (Love's a Bitch) (2000), Along Came a Spider (2001), Bridget Jones's Diary (2001), Swordfish (2001), Legally Blonde (2001), Original Sin (2001), Mulholland Drive (2001), Spy Game (2001), Behind Enemy Lines (2001), Ocean's Eleven (2001), Vanilla Sky (2001), Beautiful Mind, A (2001), 48 Hrs. (1982), The Count of Monte Cristo (2002), 40 Days and 40 Nights (2002), Harrison's Flowers (2000), Sweetest Thing, The (2002), Life or Something Like It (2002), About a Boy (2002), Bourne Identity, The (2002), Windtalkers (2002), Good Girl, The (2002), Transporter, The (2002), Red Dragon (2002), Harry Potter and the Chamber of Secrets (2002), Return to the Blue Lagoon (1991), Maid in Manhattan (2002), 25th Hour (2002), Catch Me If You Can (2002), Hours, The (2002), Identity (2003), Bruce Almighty (2003), Italian Job, The (2003), 28 Days Later (2002), Pirates of the Caribbean: The Curse of the Black Pearl (2003), Bad Boys II (2003), Lost in Translation (2003), Anything Else (2003), Rundown, The (2003), Under the Tuscan Sun (2003), Mystic River (2003), Beyond Borders (2003), Love Actually (2003), 21 Grams (2003), Along Came Polly (2004), Dreamers, The (2003), EuroTrip (2004), Taking Lives (2004), Whole Ten Yards, The (2004), Man on Fire (2004), Mean Girls (2004), Troy (2004), Coffee and Cigarettes (2003), Band of Brothers (2001), Pride and Prejudice (1995), Shrek 2 (2004), Day After Tomorrow, The (2004), Mindhunters (2004), Terminal, The (2004), Notebook, The (2004), Reconstruction (2003), King Arthur (2004), Bourne Supremacy, The (2004), Collateral (2004), Anacondas: The Hunt for the Blood Orchid (2004), Wicker Park (2004), After the Sunset (2004), National Treasure (2004), Bad Education (La mala educación) (2004), Closer (2004), Ocean's Twelve (2004), Blade: Trinity (2004), Bourne Identity, The (1988), Gia (1998), Lost Battalion, The (2001), Jacket, The (2005), Saints and Soldiers (2003), When Will I Be Loved (2004), Assault on Precinct 13 (2005), Wedding Date, The (2005), Hitch (2005), Control (Kontroll) (2003), Melinda and Melinda (2004), Miss Congeniality 2: Armed and Fabulous (2005), Sahara (2005), Lot Like Love, A (2005), Crash (2004), Monster-in-Law (2005), Mr. & Mrs. Smith (2005), Ladies in Lavender (2004), Perfect Man, The (2005), My Summer of Love (2004), Wedding Crashers (2005), The Great Raid (2005), Constant Gardener, The (2005), Transporter 2 (2005), Unfinished Life, An (2005), Flightplan (2005), History of Violence, A (2005), Into the Blue (2005), Dandelion (2004), Just Friends (2005), Pride & Prejudice (2005), Harry Potter and the Goblet of Fire (2005), Match Point (2005), 7 Seconds (2005), Rumor Has It... (2005), New World, The (2005), Bandidas (2006), Failure to Launch (2006), Inside Man (2006), Lucky Number Slevin (2006), Volver (2006), Friends with Money (2006), Sentinel, The (2006), Mission: Impossible III (2006), Poseidon (2006), Devil Wears Prada, The (2006), Pirates of the Caribbean: Dead Man's Chest (2006), Babel (2006), Combien Tu M'aimes? (How Much Do You Love Me?) (2005), Night at the Museum (2006), Miami Vice (2006), Crank (2006), Material Girls (2006), Apocalypto (2006), Borat: Cultural Learnings of America for Make Benefit Glorious Nation of Kazakhstan (2006), Departed, The (2006), Marine, The (2006), Little Children (2006), Children of Men (2006), 9th Company (2005), Good Year, A (2006), Casino Royale (2006), Déjà Vu (Deja Vu) (2006), Holiday, The (2006), Harsh Times (2006), Turistas (2006), Blood Diamond (2006), Bothersome Man, The (Brysomme mannen, Den) (2006), Letters from Iwo Jima (2006), Hannibal Rising (2007), It's a Boy Girl Thing (2006), Unknown (2006), Music and Lyrics (2007), Zodiac (2007), 300 (2007), Priceless (Hors de prix) (2006), Becoming Jane (2007), Shooter (2007), Perfect Stranger (2007), Disturbia (2007), In the Land of Women (2007), Knocked Up (2007), 28 Weeks Later (2007), Pirates of the Caribbean: At World's End (2007), Librarian: Quest for the Spear, The (2004), 88 Minutes (2008), Ocean's Thirteen (2007), Rescue Dawn (2006), Valet, The (La doublure) (2006), Mighty Heart, A (2007), Transformers (2007), No Reservations (2007), Bourne Ultimatum, The (2007), Kingdom, The (2007), Nanny Diaries, The (2007), Taxi 4 (2007), Hunting and Gathering (Ensemble, c'est tout) (2007), Good Night, The (2007), Atonement (2007), 4 Months, 3 Weeks and 2 Days (4 luni, 3 saptamâni si 2 zile) (2007), Brave One, The (2007), In the Valley of Elah (2007), I Could Never Be Your Woman (2007), Feast of Love (2007), Heartbreak Kid, The (2007), Sleuth (2007), National Treasure: Book of Secrets (2007), P.S. I Love You (2007), 27 Dresses (2008), Cassandra's Dream (2007), In Bruges (2008), Vantage Point (2008), 21 (2008), Nim's Island (2008), Sex and Death 101 (2007), Deception (2008), Made of Honor (2008), Taken (2008), Indiana Jones and the Kingdom of the Crystal Skull (2008), Wanted (2008), Get Smart (2008), Felon (2008), Vicky Cristina Barcelona (2008), Elegy (2008), Bangkok Dangerous (2008), Everybody Wants to Be Italian (2007), Rachel Getting Married (2008), Body of Lies (2008), My Best Friend's Girl (2008), Quantum of Solace (2008), Reader, The (2008), Marley & Me (2008), Passengers (2008), Bride Wars (2009), He's Just Not That Into You (2009), Away We Go (2009), Echelon Conspiracy (2009), Inglourious Basterds (2009), State of Play (2009), Crank: High Voltage (2009), New in Town (2009), Proposal, The (2009), Whatever Works (2009), Ghosts of Girlfriends Past (2009), (500) Days of Summer (2009), Ugly Truth, The (2009), Perfect Getaway, A (2009), 12 Rounds (2009), Adam (2009), Love Happens (2009), Education, An (2009), All About Steve (2009), Law Abiding Citizen (2009), Tournament, The (2009), 2012 (2009), Broken Embraces (Los abrazos rotos) (2009), Did You Hear About the Morgans? (2009), Veronika Decides to Die (2009), When in Rome (2010), Edge of Darkness (2010), Valentine's Day (2010), From Paris with Love (2010), Bounty Hunter, The (2010), I Hate Valentine's Day (2009), Date Night (2010), Last Song, The (2010), Killers (2010), Buried (2010), Back-up Plan, The (2010), Knight and Day (2010), Salt (2010), Rebound, The (2009), Expendables, The (2010), Black Water (2007), American, The (2010), Switch, The (2010), Going the Distance (2010), Tamara Drewe (2010), My Girlfriend's Boyfriend (2010), Life as We Know It (2010), Heartbreaker (L'Arnacoeur) (2010), Ten Minutes Older: The Cello (2002), Morning Glory (2010), Next Three Days, The (2010), Love and Other Drugs (2010), Tourist, The (2010), Tomorrow, When the War Began (2010), Little Fockers (2010), And Soon the Darkness (2010), Way Back, The (2010), No Strings Attached (2011), Lincoln Lawyer, The (2011), Unknown (2011), Sanctum (2011), Adjustment Bureau, The (2011), Mechanic, The (2011), Hall Pass (2011), Closing the Ring (2007), Just Go with It (2011), Source Code (2011), Hanna (2011), Rio (2011), Something Borrowed (2011), Pirates of the Caribbean: On Stranger Tides (2011), Midnight in Paris (2011), Takers (2010), Horrible Bosses (2011), Drive (2011), Crazy, Stupid, Love. (2011), One Day (2011), Rapt (2009), I Don't Know How She Does It (2011), Ides of March, The (2011), Killer Elite (2011), Behind Enemy Lines II: Axis of Evil (2006), Assassination Games (2011), Abduction (2011), Rum Diary, The (2011), Flypaper (2011), Bourne Legacy, The (2012), Contraband (2012), Grey, The (2012), Seeking Justice (2011), Intouchables (2011), One for the Money (2012), Vow, The (2012), Perfect Sense (2011), Love Wrecked (2005), This Means War (2012), L!fe Happens (2012), Big Bang, The (2011), Five-Year Engagement, The (2012), Largo Winch (Heir Apparent: Largo Winch, The) (2008), Wanderlust (2012), Get the Gringo (2012), Thousand Words, A (2012), To Rome with Love (2012), Seeking a Friend for the End of the World (2012), Skyfall (2012), End of Watch (2012), Taken 2 (2012), Argo (2012), Silver Linings Playbook (2012), Flight (2012), Stolen (2012), Impossible, The (Imposible, Lo) (2012), Extracted (2012), We're the Millers (2013), Captain Phillips (2013), Two Days, One Night (Deux jours, une nuit) (2014)\n",
      "\n",
      "Пользователь 437:\n",
      "Просмотренные фильмы: Toy Story (1995), Usual Suspects, The (1995), Star Wars: Episode IV - A New Hope (1977), Pulp Fiction (1994), Shawshank Redemption, The (1994), Forrest Gump (1994), Silence of the Lambs, The (1991), Fargo (1996), Rear Window (1954), Reservoir Dogs (1992), Star Wars: Episode V - The Empire Strikes Back (1980), Raiders of the Lost Ark (Indiana Jones and the Raiders of the Lost Ark) (1981), Matrix, The (1999), American Beauty (1999), Fight Club (1999), Memento (2000), Donnie Darko (2001), Catch Me If You Can (2002), City of God (Cidade de Deus) (2002), V for Vendetta (2006), Inside Man (2006), Little Miss Sunshine (2006), Departed, The (2006), Prestige, The (2006), Bourne Ultimatum, The (2007), Dark Knight, The (2008), Watchmen (2009), Inglourious Basterds (2009), Inception (2010), Dark Knight Rises, The (2012), Moonrise Kingdom (2012), Django Unchained (2012), Dallas Buyers Club (2013), Grand Budapest Hotel, The (2014)\n",
      "\n",
      "Пользователь 205:\n",
      "Просмотренные фильмы: Nixon (1995), Casino (1995), Ace Ventura: When Nature Calls (1995), Get Shorty (1995), Leaving Las Vegas (1995), Twelve Monkeys (a.k.a. 12 Monkeys) (1995), Babe (1995), Clueless (1995), To Die For (1995), Seven (a.k.a. Se7en) (1995), Usual Suspects, The (1995), Apollo 13 (1995), Crimson Tide (1995), Crumb (1994), Die Hard: With a Vengeance (1995), Net, The (1995), Nine Months (1995), Species (1995), To Wong Foo, Thanks for Everything! Julie Newmar (1995), Waterworld (1995), Boys on the Side (1995), Disclosure (1994), Dolores Claiborne (1995), Dumb & Dumber (Dumb and Dumber) (1994), Ed Wood (1994), French Kiss (1995), I.Q. (1994), Interview with the Vampire: The Vampire Chronicles (1994), Miracle on 34th Street (1994), Murder in the First (1995), Natural Born Killers (1994), Pulp Fiction (1994), Quiz Show (1994), Ready to Wear (Pret-A-Porter) (1994), Stargate (1994), Santa Clause, The (1994), Shawshank Redemption, The (1994), While You Were Sleeping (1995), Ace Ventura: Pet Detective (1994), Bullets Over Broadway (1994), Clear and Present Danger (1994), Forrest Gump (1994), Four Weddings and a Funeral (1994), It Could Happen to You (1994), Mask, The (1994), Maverick (1994), Naked Gun 33 1/3: The Final Insult (1994), Speed (1994), True Lies (1994), Carlito's Way (1993), Cliffhanger (1993), Dave (1993), Firm, The (1993), Fugitive, The (1993), Hudsucker Proxy, The (1994), What's Love Got to Do with It? (1993), Jurassic Park (1993), Malice (1993), Mrs. Doubtfire (1993), Schindler's List (1993), Sleepless in Seattle (1993), Tombstone (1993), Home Alone (1990), Batman (1989), Silence of the Lambs, The (1991), Pretty Woman (1990), Twister (1996)\n",
      "\n",
      "Пользователь 298:\n",
      "Просмотренные фильмы: Mallrats (1995), Courage Under Fire (1996), Faces (1968), Multiplicity (1996), Escape from L.A. (1996), Harold and Maude (1971), Manhattan (1979), Patton (1970), Lost Highway (1997), Wild Things (1998), Buffalo '66 (a.k.a. Buffalo 66) (1998), Blue Velvet (1986), Payback (1999), Ghostbusters II (1989), Mystery Men (1999), Little Shop of Horrors (1986), Deliverance (1972), Risky Business (1983), Man Bites Dog (C'est arrivé près de chez vous) (1992), Mirror, The (Zerkalo) (1975), Caddyshack (1980), Eraserhead (1977), Mulholland Drive (2001), Wild at Heart (1990), Naked Lunch (1991), Persona (1966), 3 Women (Three Women) (1977), Topo, El (1970), Holy Mountain, The (Montaña sagrada, La) (1973), Inland Empire (2006), House (Hausu) (1977), Dogtooth (Kynodontas) (2009)\n",
      "\n",
      "Пользователь 527:\n",
      "Просмотренные фильмы: Babe (1995), Mortal Kombat (1995), Indian in the Cupboard, The (1995), Mr. Holland's Opus (1995), Braveheart (1995), Birdcage, The (1996), Batman Forever (1995), Casper (1995), Congo (1995), Die Hard: With a Vengeance (1995), First Knight (1995), Johnny Mnemonic (1995), Judge Dredd (1995), Mighty Morphin Power Rangers: The Movie (1995), Species (1995), Waterworld (1995), Interview with the Vampire: The Vampire Chronicles (1994), Little Women (1994), Miracle on 34th Street (1994), Outbreak (1995), Léon: The Professional (a.k.a. The Professional) (Léon) (1994), Pulp Fiction (1994), Quiz Show (1994), Stargate (1994), Santa Clause, The (1994), Star Trek: Generations (1994), Tommy Boy (1995), Ace Ventura: Pet Detective (1994), Clear and Present Danger (1994), Crow, The (1994), Flintstones, The (1994), Forrest Gump (1994), Lion King, The (1994), Mask, The (1994), Naked Gun 33 1/3: The Final Insult (1994), Paper, The (1994), True Lies (1994), Addams Family Values (1993), City Slickers II: The Legend of Curly's Gold (1994), Cliffhanger (1993), Demolition Man (1993), Firm, The (1993), Free Willy (1993), Hot Shots! Part Deux (1993), In the Line of Fire (1993), Jurassic Park (1993), Last Action Hero (1993), Mrs. Doubtfire (1993), Robin Hood: Men in Tights (1993), Nightmare Before Christmas, The (1993), Brady Bunch Movie, The (1995), Home Alone (1990), Ghost (1990), Aladdin (1992), Terminator 2: Judgment Day (1991), Dances with Wolves (1990), Batman (1989), Snow White and the Seven Dwarfs (1937), Pretty Woman (1990), Aristocats, The (1970), Adventures of Pinocchio, The (1996)\n",
      "\n"
     ]
    }
   ],
   "source": [
    "ratings = pd.read_csv(\"C:/Users/Adeli/Downloads/2/ratings.csv\")\n",
    "movies = pd.read_csv(\"C:/Users/Adeli/Downloads/2/movies.csv\")\n",
    "\n",
    "# Определение ID пользователя, чьи вкусы мы хотим сравнить\n",
    "target_user_id = 5\n",
    "\n",
    "# Создание матрицы \"пользователь-фильм\"\n",
    "user_movie_matrix = ratings.pivot_table(index='userId', columns='movieId', values='rating', fill_value=0)\n",
    "\n",
    "# Вычисление косинусной близости между пользователями\n",
    "cosine_sim = cosine_similarity(user_movie_matrix)\n",
    "\n",
    "# Нахождение пользователей с похожими вкусами\n",
    "sim_scores = list(enumerate(cosine_sim[target_user_id]))\n",
    "sim_scores = sorted(sim_scores, key=lambda x: x[1], reverse=True)\n",
    "\n",
    "# Выбираем топ-5 пользователей с наибольшим сходством\n",
    "top_similar_users = [user_id for user_id, score in sim_scores[1:6]]  # Исключаем самого себя\n",
    "\n",
    "# Выводим информацию о пользователях с похожими вкусами\n",
    "print(\"Пользователи с похожими вкусами:\")\n",
    "for user_id in top_similar_users:\n",
    "    print(f\"Пользователь {user_id}:\")\n",
    "    user_ratings = ratings[ratings['userId'] == user_id]\n",
    "    user_watched_movies = user_ratings.merge(movies, on='movieId', how='left')['title'].tolist()\n",
    "    print(f\"Просмотренные фильмы: {', '.join(user_watched_movies)}\")\n",
    "    print()"
   ]
  },
  {
   "cell_type": "code",
   "execution_count": null,
   "id": "d1db2047-68f3-423d-b077-9a0038dc20a0",
   "metadata": {},
   "outputs": [],
   "source": []
  },
  {
   "cell_type": "code",
   "execution_count": null,
   "id": "a02db8eb-eee6-46da-98ba-0917ad06477a",
   "metadata": {},
   "outputs": [],
   "source": []
  },
  {
   "cell_type": "code",
   "execution_count": null,
   "id": "55801904-b37f-48e7-8448-5611dff87550",
   "metadata": {},
   "outputs": [],
   "source": []
  },
  {
   "cell_type": "code",
   "execution_count": null,
   "id": "bce55c0a-f10c-4f89-804f-c873a1e31aa1",
   "metadata": {},
   "outputs": [],
   "source": []
  }
 ],
 "metadata": {
  "kernelspec": {
   "display_name": "Python 3 (ipykernel)",
   "language": "python",
   "name": "python3"
  },
  "language_info": {
   "codemirror_mode": {
    "name": "ipython",
    "version": 3
   },
   "file_extension": ".py",
   "mimetype": "text/x-python",
   "name": "python",
   "nbconvert_exporter": "python",
   "pygments_lexer": "ipython3",
   "version": "3.11.7"
  }
 },
 "nbformat": 4,
 "nbformat_minor": 5
}
